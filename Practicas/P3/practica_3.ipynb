{
 "cells": [
  {
   "cell_type": "markdown",
   "id": "4ad60680-68ce-410c-b0e2-b4c1c133cd82",
   "metadata": {},
   "source": [
    "# Práctica 3: Modelo dinámico inverso de un robot y planteamiento de trayectoria\n",
    "\n",
    "## Objetivo\n",
    "\n",
    "Que el alumno resuelva la dinámica inversa de un manipulador serial, calculando el par necesario para desplazar el efector final de un punto inicial a un punto final a lo largo de una trayectoria lineal.\n",
    "\n",
    "\n",
    "### Metas \n",
    "\n",
    "- Que el alumno aplique un modelo cinemático inverso para calcular una trayectoria a partir de una posición actual hacia una posición final\n",
    "- Que el alumno aplique un modelo de dinámica inversa a través del método de Euler Lagrange para calcular los pares en las juntas del robot\n",
    "- Que el alumno grafique y analice los resultados del modelo\n",
    "- Que el alumno configure un repositorio en línea e incluya en éste su práctica\n",
    "\n",
    "### Contribución al perfil del egresado\n",
    "\n",
    "La siguiente práctica contribuye en los siguientes puntos al perfil del egresado:\n",
    "\n",
    "#### Aptitudes y habilidades\n",
    "\n",
    "- Para modelar, simular e interpretar el comportamiento de los sistemas mecatrónicos.\n",
    "- Para diseñar, construir, operar y mantener los sistemas mecatrónicos y sus componentes.\n",
    "\n",
    "#### Actitudes\n",
    "\n",
    "- Tener confianza en su preparación académica.\n",
    "- Comprometido con su actualización, superación y competencia profesional.\n",
    "\n",
    "#### De tipo social\n",
    "\n",
    "- Promover el cambio en la mentalidad frente a la competitividad internacional.\n",
    "\n",
    "## Rúbrica de evaluación\n",
    "\n",
    "La evaluación de la práctica contará de los siguientes puntos y se evaluará con los siguientes criterios:\n",
    "\n",
    "| Elemento | Porcentaje |\n",
    "|------| -----------:|\n",
    "| **Cuestionario previo** | 15% | \n",
    "| **Desarrollo** | 35% |\n",
    "| **Análisis de resultados**  | 35% |\n",
    "| **Conclusiones** | 15% |\n",
    "\n",
    "<br>\n",
    "\n",
    "| Elemento | Malo | Regular | Bueno |\n",
    "| :------| ------ | --------| ------|\n",
    "| **Cuestionario previo** | El trabajo no contiene cuestionario previo o todas las preguntas son incorrectas (0%)| Al menos la mitad de las preguntas son correctas (8%) |  Todas las preguntas son correctas (15%) |\n",
    "| **Desarrollo** | El trabajo no contiene desarrollo o su planteamiento no concuerda con lo deseado (0%) | El desarrollo está mal planteado o no llega a los resultados esperados (10%) | El desarrollo tiene un planteamiento adecuado y llega a los resultados esperados (35%) |\n",
    "| **Análisis de resultados**  | El trabajo no contiene análisis de resultados o la información no se está interpretando correctamente (0%) | La interpretación de los resultados es parcial o desorganizada (10%) | Realiza un correcto análisis de los resultados de forma organizada   (35%) |\n",
    "| **Conclusiones** | El trabajo no contiene conclusiones o no hacen referencia al trabajo desarrollado y los objetivos planteados (0%) | La redacción de las conclusiones es desorganizada o confusa (8%) | Las conclusiones del trabajo son claras y hacen referencia al trabajo desarrollado y los objetivos planteados (15%) | \n",
    "\n"
   ]
  },
  {
   "cell_type": "markdown",
   "id": "e5ff673e-01fd-4484-99fe-3a26e38c516e",
   "metadata": {
    "jp-MarkdownHeadingCollapsed": true
   },
   "source": [
    "## Introducción\n",
    "\n",
    "### Modelo dinámico\n",
    "El modelo dinámico de un sistema permite analizar el movimiento del cuerpo atendiendo a las causas que lo originan (fuerzas y pares)\n",
    "En particular, para un manipulador serial, permite relacionar el par aplicado en las juntas de un robot con la posición del efector final, considerando fenómenos como la masa y la inercia.\n",
    "\n",
    "### Modelo dinámico inverso\n",
    "El modelo dinámico inverso permite conocer la posición del efector final en términos de los pares de las juntas. Para esto, se pueden tomar dos aproximaciones\n",
    "\n",
    "### Ecuaciones de propagación\n",
    "Las ecuaciones de propagación de velocidad permiten relacionar cómo el comportamiento de un eslabón dentro de una cadena cinemática afecta a los otros eslabones dentro de la cadena. Se puede analizar la propagación de las fuerzas y de la velocidad dentro de una cadena.\n",
    "\n",
    "### Modelo Newton-Euler\n",
    "Las ecuaciones de Newton-Euler relacionan la cantidad de movimiento lineal y angular con las fuerzas y pares a los que es sometido cada uno de los eslabones\n",
    "\n",
    "### Modelo Euler-Lagrange\n",
    "El modelo de Euler-Lagrange permite relacionar la energía cinética y potencial con las perturbaciones dentro de un sistema, a través del principio de mínima acción. "
   ]
  },
  {
   "cell_type": "markdown",
   "id": "4d392cc9-9f13-45dd-aeab-49a3ef991dc5",
   "metadata": {},
   "source": [
    "## Cuestionario previo\n",
    "\n",
    "Responder de forma breve las siguientes preguntas:\n",
    "\n",
    "- ¿Qué es el análisis de dinámica inversa y qué nos permite obtener?\n",
    "- ¿A través de qué modelados se puede realizar un análisis de dinámica inversa?\n",
    "- ¿De qué condiciones ó fenómenos físicos dependen los pares en las juntas de un robot para seguir una trayectoria?\n",
    "- ¿Cómo se aplica la derivada total de una función que está en términos de otras variables que a su vez están en términos de la variable respecto a la que se realiza la derivada total?\n",
    "\n",
    "En caso de integrar imagenes, colocarlas en la carpeta *\"imagenes\"*"
   ]
  },
  {
   "cell_type": "markdown",
   "id": "6771b56b-e285-43cc-b039-e502c9e0ef9c",
   "metadata": {},
   "source": [
    "## Desarrollo\n",
    "\n",
    "### 1. Planteamiento de la cinemática inversa y obtención de la trayectoria\n",
    "En esta primera parte, se realiza el análisis de la cinemática inversa, que permite obtener las posiciones, velocidades y aceleraciones de las juntas del robot, dada **una posición inicial de las juntas y una posición final del efector final**. Se puede retomar de la práctica anterior. \n",
    "Un diagrama del robot se muestra en la imagen:\n",
    "\n",
    "<img src=\"imagenes/P3_IM1.png\" alt = \"Robot RRR\" width=\"300\" height=\"300\" display= \"block\"/>\n",
    "\n",
    "** Considerar valores cualesquiera para las dimensiones de los eslabones y la posición inicial de las juntas"
   ]
  },
  {
   "cell_type": "code",
   "execution_count": 1,
   "id": "07e04c95-5026-4267-bce4-e9c83047ca65",
   "metadata": {},
   "outputs": [],
   "source": [
    "###Colocar y correr el código dentro de estas celdas"
   ]
  },
  {
   "cell_type": "markdown",
   "id": "a32cb14f",
   "metadata": {},
   "source": [
    "### 2. Planteamiento de la dinámica inversa"
   ]
  },
  {
   "cell_type": "markdown",
   "id": "096bc443",
   "metadata": {},
   "source": [
    "### a) Planteamiento de la dinámica inversa: Matrices de inercia\n",
    "\n",
    "Calcular las matrices de inercia de los eslabones considerando que su centro de masa concide con su centroide y constan de un prisma con las dimensiones usadas en el archivo URDF del robot."
   ]
  },
  {
   "cell_type": "code",
   "execution_count": null,
   "id": "7f8c0471-6213-446b-ab20-6133131e4a97",
   "metadata": {},
   "outputs": [],
   "source": [
    "###Colocar y correr el código dentro de estas celdas"
   ]
  },
  {
   "cell_type": "markdown",
   "id": "9bc9e456-2272-4e0f-9cd2-d69f8d1757a1",
   "metadata": {},
   "source": [
    "### b) Planteamiento de la dinámica inversa: Posiciones de los centros de masa\n",
    "A partir de las matrices de transformación homogénea, obtener la posición de los centros de masa de los eslabones."
   ]
  },
  {
   "cell_type": "code",
   "execution_count": 1,
   "id": "0b021465-446c-4e56-b354-492ee72c4308",
   "metadata": {},
   "outputs": [],
   "source": [
    "###Colocar y correr el código dentro de estas celdas"
   ]
  },
  {
   "cell_type": "markdown",
   "id": "dcd2ab73-8dcd-4b21-ae78-9158c72d99dc",
   "metadata": {},
   "source": [
    "### c) Planteamiento de la dinámica inversa: Velocidades de los centros de masa\n",
    "\n",
    "A partir de las ecuaciones de propagación de la velocidad, obtener la velocidad lineal y angular de los centros de masa de los eslabones."
   ]
  },
  {
   "cell_type": "code",
   "execution_count": null,
   "id": "cb0616b7",
   "metadata": {},
   "outputs": [],
   "source": [
    "###Colocar y correr el código dentro de estas celdas"
   ]
  },
  {
   "cell_type": "markdown",
   "id": "fd3d9cd0",
   "metadata": {},
   "source": [
    "### d) Cálculo del Lagrangiano\n",
    "Para calcular el Lagrangiano, calcular también las energías cinética y potencial de cada eslabón, y sumarlas. "
   ]
  },
  {
   "cell_type": "code",
   "execution_count": null,
   "id": "e1f68eac-4f05-4622-b046-9e8f215a02ad",
   "metadata": {},
   "outputs": [],
   "source": [
    "###Colocar y correr el código dentro de estas celdas"
   ]
  },
  {
   "cell_type": "markdown",
   "id": "331fdb40",
   "metadata": {},
   "source": [
    "### e) Pares en las juntas\n",
    "Para calcular los pares en las juntas del robot, calcular las parciales del Lagrangiano respecto a las variables que lo componen, y sustituirlas en la ecuación de Euler-Lagrange."
   ]
  },
  {
   "cell_type": "code",
   "execution_count": null,
   "id": "297a1c85",
   "metadata": {},
   "outputs": [],
   "source": [
    "###Colocar y correr el código dentro de estas celdas"
   ]
  },
  {
   "cell_type": "markdown",
   "id": "53aa98ed",
   "metadata": {},
   "source": [
    "### 3. Gráficas de pares en las juntas\n",
    "Graficar los resultados obtenidos en el punto anterior."
   ]
  },
  {
   "cell_type": "code",
   "execution_count": null,
   "id": "637619ee",
   "metadata": {},
   "outputs": [],
   "source": [
    "###Colocar y correr el código dentro de estas celdas"
   ]
  },
  {
   "cell_type": "markdown",
   "id": "6600f51c-2abe-48d8-8273-3104213ebd6d",
   "metadata": {},
   "source": [
    "### 4. Github\n",
    "Para terminar, subir los archivos de la práctica al repositorio de github"
   ]
  },
  {
   "attachments": {},
   "cell_type": "markdown",
   "id": "3a88c47d-d8a3-43cb-afee-5d54559450a7",
   "metadata": {
    "jp-MarkdownHeadingCollapsed": true
   },
   "source": [
    "## Análisis de resultados\n",
    "\n",
    "¿Qué utilidad tiene el modelo de dinámica inversa de un robot?\n",
    "> RESPUESTA"
   ]
  },
  {
   "cell_type": "markdown",
   "id": "ed674101-3cbf-4c0e-b0cc-dcddfb09fba5",
   "metadata": {},
   "source": [
    "## Conclusiones\n",
    "\n",
    "En esta sección deberan escribir las conclusiones de la práctica con base en el objetivo planteado y las metas que se deban cumplir para su realización.\n",
    "\n",
    "## Bibliografía \n",
    "\n",
    "En caso de usarse, se deben hacer referencia a la información implementada en formato ieee.\n",
    "\n",
    "\n"
   ]
  }
 ],
 "metadata": {
  "kernelspec": {
   "display_name": "Python 3 (ipykernel)",
   "language": "python",
   "name": "python3"
  },
  "language_info": {
   "codemirror_mode": {
    "name": "ipython",
    "version": 3
   },
   "file_extension": ".py",
   "mimetype": "text/x-python",
   "name": "python",
   "nbconvert_exporter": "python",
   "pygments_lexer": "ipython3",
   "version": "3.10.12"
  }
 },
 "nbformat": 4,
 "nbformat_minor": 5
}
